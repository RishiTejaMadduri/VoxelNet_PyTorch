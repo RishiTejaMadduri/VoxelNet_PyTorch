{
 "cells": [
  {
   "cell_type": "code",
   "execution_count": 2,
   "metadata": {},
   "outputs": [],
   "source": [
    "import random\n",
    "import numpy as np\n",
    "import torch\n",
    "import cv2\n",
    "from torch.utils.data import Dataset\n",
    "from PIL import Image\n",
    "from torchvision import transforms\n",
    "from scipy import ndimage"
   ]
  },
  {
   "cell_type": "code",
   "execution_count": 3,
   "metadata": {},
   "outputs": [],
   "source": [
    "class BaseDataSet(Dataset):\n",
    "    def __init__(self, data_dir, shuffle = False, augment=True, is_testset=False, return_id = False):\n",
    "        \n",
    "        self.data_dir = data_dir\n",
    "        self.aug = augment\n",
    "        self.shuffle = shuffle\n",
    "        self.is_testset = is_testset\n",
    "        self.crop_size = (cfg.IMAGE_WIDTH, cfg.IMAGE_HEIGHT)\n",
    "        self.indices = []\n",
    "        self._set_files()\n",
    "        self.return_id = return_id\n",
    "        \n",
    "        \n",
    "    def _set_files(self):\n",
    "        raise NotImplementedError\n",
    "    \n",
    "    def _load_data(self, index):\n",
    "        raise NotImplementedError\n",
    "\n",
    "    def _augmentation(self, tag, rgb, raw_lidar, voxel, labels):\n",
    "        return aug_data(tag, rgb, raw_lidar, voxel, labels)\n",
    "    \n",
    "    def __len__(self):\n",
    "        return len(self.indices)\n",
    "    \n",
    "\n",
    "    def __getitem__(self, index, is_testset = False):\n",
    "        \n",
    "        if not self.is_testset:\n",
    "            tag, rgb, raw_lidar, voxel, labels = self._load_data(index)\n",
    "            rgb = rgb.resize(cfg.IMAGE_WIDTH, cfg.IMAGE_HEIGHT)\n",
    "            \n",
    "            if self.aug:\n",
    "                ret = _augmentation(tag, rgb, raw_lidar, voxel, labels)\n",
    "            else:\n",
    "                ret = [tag, rgb, raw_lidar, voxel, labels]\n",
    "                \n",
    "        else:\n",
    "            tag, rgb, raw_lidar, voxel, labels = self._load_data(index, is_testset = True)\n",
    "            ret = [tag, rgb, raw_lidar, voxel, labels]\n",
    "            \n",
    "        return ret\n",
    "\n",
    "    def __repr__(self):\n",
    "        fmt_str = \"Dataset: \" + self.__class__.__name__ + \"\\n\"\n",
    "        fmt_str += \"    # data: {}\\n\".format(self.__len__())\n",
    "        fmt_str += \"    Split: {}\\n\".format(self.split)\n",
    "        fmt_str += \"    Root: {}\".format(self.root)\n",
    "        return fmt_str"
   ]
  }
 ],
 "metadata": {
  "kernelspec": {
   "display_name": "Python 3",
   "language": "python",
   "name": "python3"
  },
  "language_info": {
   "codemirror_mode": {
    "name": "ipython",
    "version": 3
   },
   "file_extension": ".py",
   "mimetype": "text/x-python",
   "name": "python",
   "nbconvert_exporter": "python",
   "pygments_lexer": "ipython3",
   "version": "3.6.9"
  }
 },
 "nbformat": 4,
 "nbformat_minor": 4
}
