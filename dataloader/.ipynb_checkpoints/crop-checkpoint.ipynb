{
 "cells": [
  {
   "cell_type": "code",
   "execution_count": 4,
   "metadata": {},
   "outputs": [],
   "source": [
    "import numpy as np\n",
    "from PIL import Image"
   ]
  },
  {
   "cell_type": "code",
   "execution_count": 5,
   "metadata": {},
   "outputs": [],
   "source": [
    "def load_velodyne_points(filename):\n",
    "    points = np.fromfile(filename, dtype = np.float32).reshape(-1,4)\n",
    "    return points"
   ]
  },
  {
   "cell_type": "code",
   "execution_count": 6,
   "metadata": {},
   "outputs": [],
   "source": [
    "def load_calib(calib_dir):\n",
    "    lines = open(calib_dir).readlines()\n",
    "    lines = [ line.split()[1:] for line in lines ][:-1]\n",
    "    #\n",
    "    P = np.array(lines[CAM]).reshape(3,4)\n",
    "    #\n",
    "    Tr_velo_to_cam = np.array(lines[5]).reshape(3,4)\n",
    "    Tr_velo_to_cam = np.concatenate(  [ Tr_velo_to_cam, np.array([0,0,0,1]).reshape(1,4)  ], 0)\n",
    "    #\n",
    "    R_cam_to_rect = np.eye(4)\n",
    "    R_cam_to_rect[:3,:3] = np.array(lines[4][:9]).reshape(3,3)\n",
    "    #\n",
    "    P = P.astype('float32')\n",
    "    Tr_velo_to_cam = Tr_velo_to_cam.astype('float32')\n",
    "    R_cam_to_rect = R_cam_to_rect.astype('float32')\n",
    "    return P, Tr_velo_to_cam, R_cam_to_rect"
   ]
  },
  {
   "cell_type": "code",
   "execution_count": 7,
   "metadata": {},
   "outputs": [],
   "source": [
    "def prepare_velo_points(pts3d_raw):\n",
    "    '''Replaces the reflectance value by 1, and tranposes the array, so\n",
    "        points can be directly multiplied by the camera projection matrix'''\n",
    "    pts3d = pts3d_raw\n",
    "    # Reflectance > 0\n",
    "    indices = pts3d[:, 3] > 0\n",
    "    pts3d = pts3d[indices ,:]\n",
    "    pts3d[:,3] = 1\n",
    "    return pts3d.transpose(), indices"
   ]
  },
  {
   "cell_type": "code",
   "execution_count": 8,
   "metadata": {},
   "outputs": [],
   "source": [
    "def project_velo_points_in_img(pts3d, T_cam_velo, Rrect, Prect):\n",
    "    '''Project 3D points into 2D image. Expects pts3d as a 4xN\n",
    "        numpy array. Returns the 2D projection of the points that\n",
    "        are in front of the camera only an the corresponding 3D points.'''\n",
    "    # 3D points in camera reference frame.\n",
    "    pts3d_cam = Rrect.dot(T_cam_velo.dot(pts3d))\n",
    "    # Before projecting, keep only points with z>0\n",
    "    # (points that are in fronto of the camera).\n",
    "    idx = (pts3d_cam[2,:]>=0)\n",
    "    pts2d_cam = Prect.dot(pts3d_cam[:,idx])\n",
    "    return pts3d[:, idx], pts2d_cam/pts2d_cam[2,:], idx"
   ]
  },
  {
   "cell_type": "code",
   "execution_count": 9,
   "metadata": {},
   "outputs": [],
   "source": [
    "def align_img_and_pc(img_dir, pc_dir, calib_dir):\n",
    "    \n",
    "    img = imread(img_dir)\n",
    "    pts = load_velodyne_points( pc_dir )\n",
    "    P, Tr_velo_to_cam, R_cam_to_rect = load_calib(calib_dir)\n",
    "\n",
    "    pts3d, indices = prepare_velo_points(pts)\n",
    "    pts3d_ori = pts3d.copy()\n",
    "    reflectances = pts[indices, 3]\n",
    "    pts3d, pts2d_normed, idx = project_velo_points_in_img( pts3d, Tr_velo_to_cam, R_cam_to_rect, P  )\n",
    "    #print reflectances.shape, idx.shape\n",
    "    reflectances = reflectances[idx]\n",
    "    #print reflectances.shape, pts3d.shape, pts2d_normed.shape\n",
    "    assert reflectances.shape[0] == pts3d.shape[1] == pts2d_normed.shape[1]\n",
    "\n",
    "    rows, cols = img.shape[:2]\n",
    "\n",
    "    points = []\n",
    "    for i in range(pts2d_normed.shape[1]):\n",
    "        c = int(np.round(pts2d_normed[0,i]))\n",
    "        r = int(np.round(pts2d_normed[1,i]))\n",
    "        if c < cols and r < rows and r > 0 and c > 0:\n",
    "            color = img[r, c, :]\n",
    "            point = [ pts3d[0,i], pts3d[1,i], pts3d[2,i], reflectances[i], color[0], color[1], color[2], pts2d_normed[0,i], pts2d_normed[1,i]  ]\n",
    "            points.append(point)\n",
    "\n",
    "    points = np.array(points)\n",
    "    return points"
   ]
  },
  {
   "cell_type": "code",
   "execution_count": null,
   "metadata": {},
   "outputs": [],
   "source": [
    "IMG_ROOT = '/media/hdc/KITTI/image/training/image_2/'\n",
    "PC_ROOT = '/media/hdc/KITTI/point_cloud/raw_bin_files/training/velodyne/'\n",
    "CALIB_ROOT = '/media/hdc/KITTI/calib/data_object_calib/training/calib/'\n",
    "\n",
    "for frame in range(0, 7481):\n",
    "    img_dir = IMG_ROOT + '%06d.png' % frame\n",
    "    pc_dir = PC_ROOT + '%06d.bin' % frame\n",
    "    calib_dir = CALIB_ROOT + '%06d.txt' % frame\n",
    "\n",
    "    points = align_img_and_pc(img_dir, pc_dir, calib_dir)\n",
    "    \n",
    "    output_name = PC_ROOT + frame + '.bin'\n",
    "    points[:,:4].astype('float32').tofile(output_name)"
   ]
  }
 ],
 "metadata": {
  "kernelspec": {
   "display_name": "Python 3",
   "language": "python",
   "name": "python3"
  },
  "language_info": {
   "codemirror_mode": {
    "name": "ipython",
    "version": 3
   },
   "file_extension": ".py",
   "mimetype": "text/x-python",
   "name": "python",
   "nbconvert_exporter": "python",
   "pygments_lexer": "ipython3",
   "version": "3.6.9"
  }
 },
 "nbformat": 4,
 "nbformat_minor": 4
}
