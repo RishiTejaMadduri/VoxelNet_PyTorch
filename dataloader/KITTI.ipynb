{
 "cells": [
  {
   "cell_type": "code",
   "execution_count": 3,
   "metadata": {},
   "outputs": [],
   "source": [
    "import sys\n",
    "sys.path.append('/home/rishi/Projects/VoxelNet/VoxelNet_PyTorch/')\n",
    "# from base import BaseDataSet, BaseDataLoader\n",
    "import numpy as np\n",
    "import os\n",
    "import scipy\n",
    "import torch\n",
    "from PIL import Image\n",
    "import cv2 \n",
    "from torch.utils.data import Dataset\n",
    "from torchvision import transforms"
   ]
  },
  {
   "cell_type": "code",
   "execution_count": null,
   "metadata": {},
   "outputs": [],
   "source": [
    "class KITTIDataset(BaseDataSet):\n",
    "\n",
    "    def __init__(self, **kwargs):\n",
    "        self.data_dir = data_dir\n",
    "        self.shuffle = shuffle\n",
    "        sef.aug = aug\n",
    "        self.is_testset = is_testset\n",
    "        super(VOCDataset, self).__init__(**kwargs)\n",
    "\n",
    "    def _set_files(self):\n",
    "        self.f_rgb = glob.glob(os.path.join(self.data_dir, 'image_2', '*.png'))\n",
    "        self.f_lidar = glob.glob(os.path.join(self.data_dir, 'velodyne', '*.bin'))\n",
    "        self.f_label = glob.glob(os.path.join(self.data_dir, 'label_2', '*.txt'))\n",
    "        \n",
    "        self.f_rgb.sort()\n",
    "        self.f_lidar.sort()\n",
    "        self.f_label.sort()\n",
    "        \n",
    "        self.data_tag = [name.split('/')[-1].split('.')[-2] for name in self.f_rgb]\n",
    "        \n",
    "        assert len(self.data_tag) != 0, 'Dataset folder is not correct!'\n",
    "        assert len(self.data_tag) == len(self.f_rgb) == len(self.f_lidar), 'Dataset folder is not correct!'\n",
    "        \n",
    "        nums = len(self.f_rgb)\n",
    "        self.indices = list(range(nums))\n",
    "        \n",
    "        if self.shuffle:\n",
    "            np.random.shuffle(self.indices)\n",
    "            \n",
    "    def _load_data(self, index, is_testset = False):\n",
    "        file_id = self.indices[index]\n",
    "        rgb = Image.open(self.f_rgb[file_id])\n",
    "        raw_lidar = np.fromfile(self.f_lidar[file_id], dtype = np.float32).reshape((-1, 4))\n",
    "        if not is_testset:\n",
    "            labels = [line for line in open(self.f_label[file_id], 'r').readlines()]\n",
    "        else:\n",
    "            labels = ['']\n",
    "        \n",
    "        tag = self.data_tag[index]\n",
    "        voxel = process_pointcloud(raw_lidar)\n",
    "        return tag, rgb, raw_lidar, voxel, labels"
   ]
  },
  {
   "cell_type": "code",
   "execution_count": null,
   "metadata": {},
   "outputs": [],
   "source": [
    "class KITTI(BaseDataLoader):\n",
    "    def __init__(self, data_dir, batch_size, split, crop_size=None, base_size=None, scale=True, num_workers=1, val=False,\n",
    "                    shuffle=False, flip=False, rotate=False, blur= False, augment=False, val_split= None, return_id=False):\n",
    "\n",
    "        kwargs = {\n",
    "            'root': data_dir,\n",
    "            'split': split,\n",
    "            'val': val\n",
    "        }\n",
    "    \n",
    "        if split == \"train:\n",
    "            self.dataset = KITTIDataset(**kwargs)\n",
    "        elif split == \"val\":\n",
    "            self.dataset = KITTIDataset(**kwargs)\n",
    "        else: raise ValueError(f\"Invalid split name {split}\")\n",
    "        super(KITTI, self).__init__(self.dataset, batch_size, shuffle, num_workers, val_split)    "
   ]
  }
 ],
 "metadata": {
  "kernelspec": {
   "display_name": "Python 3",
   "language": "python",
   "name": "python3"
  },
  "language_info": {
   "codemirror_mode": {
    "name": "ipython",
    "version": 3
   },
   "file_extension": ".py",
   "mimetype": "text/x-python",
   "name": "python",
   "nbconvert_exporter": "python",
   "pygments_lexer": "ipython3",
   "version": "3.6.9"
  }
 },
 "nbformat": 4,
 "nbformat_minor": 4
}
