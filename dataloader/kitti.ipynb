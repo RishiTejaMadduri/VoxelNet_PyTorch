{
 "cells": [
  {
   "cell_type": "code",
   "execution_count": 3,
   "metadata": {
    "scrolled": true
   },
   "outputs": [
    {
     "name": "stderr",
     "output_type": "stream",
     "text": [
      "/home/rishi/.local/lib/python3.6/site-packages/Cython/Compiler/Main.py:369: FutureWarning: Cython directive 'language_level' not set, using 2 for now (Py2). This will change in a later release! File: /home/rishi/Projects/VoxelNet/VoxelNet_R_PyTorch/utils/box_overlaps.pyx\n",
      "  tree = Parsing.p_module(s, pxd, full_module_name)\n"
     ]
    }
   ],
   "source": [
    "import cv2\n",
    "import numpy as np\n",
    "import os\n",
    "import sys\n",
    "sys.path.append('/home/rishi/Projects/VoxelNet/VoxelNet_R_PyTorch/')\n",
    "import glob\n",
    "import math\n",
    "import multiprocessing\n",
    "\n",
    "import pyximport\n",
    "pyximport.install()\n",
    "\n",
    "from config import cfg\n",
    "from utils.data_aug import aug_data\n",
    "from utils.preprocess import process_pointcloud"
   ]
  },
  {
   "cell_type": "code",
   "execution_count": 5,
   "metadata": {},
   "outputs": [],
   "source": [
    "import torch\n",
    "import torch.utils.data as Data"
   ]
  },
  {
   "cell_type": "code",
   "execution_count": 4,
   "metadata": {},
   "outputs": [],
   "source": [
    "class Processor:\n",
    "    def __init__(self, data_tag, f_rgb, f_lidar, f_label, data_dir, aug, is_testset):\n",
    "        self.data_tag=data_tag\n",
    "        self.f_rgb = f_rgb\n",
    "        self.f_lidar = f_lidar\n",
    "        self.f_label = f_label\n",
    "        self.data_dir = data_dir\n",
    "        self.aug = aug\n",
    "        self.is_testset = is_testset\n",
    "    \n",
    "    def __call__(self,load_index):\n",
    "        if self.aug:\n",
    "            ret = aug_data(self.data_tag[load_index], self.data_dir)\n",
    "        else:\n",
    "            rgb = cv2.resize(cv2.imread(self.f_rgb[load_index]), (cfg.IMAGE_WIDTH, cfg.IMAGE_HEIGHT))\n",
    "            #rgb.append( cv2.imread(f_rgb[load_index]) )\n",
    "            raw_lidar = np.fromfile(self.f_lidar[load_index], dtype=np.float32).reshape((-1, 4))\n",
    "            if not self.is_testset:\n",
    "                labels = [line for line in open(self.f_label[load_index], 'r').readlines()]\n",
    "            else:\n",
    "                labels = ['']\n",
    "            tag = self.data_tag[load_index]\n",
    "            voxel = process_pointcloud(raw_lidar)\n",
    "            ret = [tag, rgb, raw_lidar, voxel, labels]\n",
    "            \n",
    "        return ret"
   ]
  },
  {
   "cell_type": "code",
   "execution_count": 6,
   "metadata": {},
   "outputs": [],
   "source": [
    "class KITTI_Loader():\n",
    "    def __init__(self, data_dir, shuffle = False, aug = False, is_testset = False):\n",
    "        self.data_dir = data_dir\n",
    "        self.shuffle = shuffle\n",
    "        self.aug = aug\n",
    "        self.is_testset = is_testset\n",
    "        \n",
    "        self.f_rgb = glob.glob(os.path.join(data_dir, 'image_2', '*.png'))\n",
    "        self.f_lidar = glob.glob(os.path.join(data_dir, 'velodyne', '*.bin'))\n",
    "        self.f_label = glob.glob(os.path.join(data_dir, 'label_2', '*.txt'))\n",
    "        \n",
    "        \n",
    "        self.f_rgb.sort()\n",
    "        self.f_lidar.sort()\n",
    "        self.f_label.sort()\n",
    "        \n",
    "        self.data_tag = [name.split('/')[-1].split('.')[-2] for name in f_rgb]\n",
    "        \n",
    "        assert len(data_tag) != 0, \"dataset folder is not correct\"\n",
    "        assert len(data_tag) == len(f_rgb) == len(f_lidar) , \"dataset folder is not correct\"\n",
    "        \n",
    "        \n",
    "        nums = len(f_rgb)\n",
    "        indices = list(range(nums))\n",
    "        if shuffle:\n",
    "            np.random.shuffle(indices)\n",
    "\n",
    "        num_batches = int(math.floor( nums / float(batch_size) ))\n",
    "\n",
    "        proc=Processor(data_tag, f_rgb, f_lidar, f_label, data_dir, aug, is_testset)\n",
    "        \n",
    "    def __getitem__(self, index):\n",
    "        # A list of [tag, rgb, raw_lidar, voxel, labels]\n",
    "        ret = self.proc(self.indices[index])\n",
    "\n",
    "        return ret\n",
    "\n",
    "\n",
    "    def __len__(self):\n",
    "        return len(self.indices)\n",
    "    \n",
    "    "
   ]
  },
  {
   "cell_type": "code",
   "execution_count": 7,
   "metadata": {},
   "outputs": [],
   "source": [
    "def collate_fn(rets):\n",
    "    tag = [ret[0] for ret in rets]\n",
    "    rgb = [ret[1] for ret in rets]\n",
    "    raw_lidar = [ret[2] for ret in rets]\n",
    "    voxel = [ret[3] for ret in rets]\n",
    "    labels = [ret[4] for ret in rets]\n",
    "    \n",
    "    # Only for voxel\n",
    "    _, vox_feature, vox_number, vox_coordinate = build_input(voxel)\n",
    "    \n",
    "    res = (\n",
    "           np.array(tag),\n",
    "           np.array(labels),\n",
    "           np.array(vox_feature),\n",
    "           np.array(vox_number),\n",
    "           np.array(vox_coordinate),\n",
    "           np.array(rgb),\n",
    "           np.array(raw_lidar)\n",
    "           )\n",
    "\n",
    "    return ret\n"
   ]
  },
  {
   "cell_type": "code",
   "execution_count": 8,
   "metadata": {},
   "outputs": [],
   "source": [
    "def build_input(voxel_dict_list):\n",
    "    batch_size = len(voxel_dict_list)\n",
    "\n",
    "    feature_list = []\n",
    "    number_list = []\n",
    "    coordinate_list = []\n",
    "    \n",
    "    for i, voxel_dict in zip(range(batch_size), voxel_dict_list):\n",
    "        feature_list.append(voxel_dict['feature_buffer'])\n",
    "        number_list.append(voxel_dict['number_buffer'])\n",
    "        coordinate = voxel_dict['coordinate_buffer']\n",
    "        coordinate_list.append(np.pad(coordinate, ((0, 0), (1, 0)), mode='constant', constant_values=i))\n",
    "\n",
    "    return batch_size, feature, number, coordinate"
   ]
  },
  {
   "cell_type": "code",
   "execution_count": null,
   "metadata": {},
   "outputs": [],
   "source": []
  }
 ],
 "metadata": {
  "kernelspec": {
   "display_name": "Python 3",
   "language": "python",
   "name": "python3"
  },
  "language_info": {
   "codemirror_mode": {
    "name": "ipython",
    "version": 3
   },
   "file_extension": ".py",
   "mimetype": "text/x-python",
   "name": "python",
   "nbconvert_exporter": "python",
   "pygments_lexer": "ipython3",
   "version": "3.7.8"
  }
 },
 "nbformat": 4,
 "nbformat_minor": 4
}
