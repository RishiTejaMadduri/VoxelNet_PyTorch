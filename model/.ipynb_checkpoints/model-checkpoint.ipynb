{
 "cells": [
  {
   "cell_type": "code",
   "execution_count": 2,
   "metadata": {},
   "outputs": [],
   "source": [
    "import os\n",
    "import sys\n",
    "import cv2 as cv\n",
    "import numpy as np\n",
    "import torch\n",
    "import torch.nn as nn\n",
    "import torch.nn.functional as F"
   ]
  },
  {
   "cell_type": "code",
   "execution_count": 4,
   "metadata": {},
   "outputs": [],
   "source": [
    "from group_pointcloud import FeatureNet\n",
    "from rpn import MiddleAndRpn"
   ]
  },
  {
   "cell_type": "code",
   "execution_count": 5,
   "metadata": {},
   "outputs": [],
   "source": [
    "sys.path.append('/home/rishi/Projects/VoxelNet/VoxelNet_R_PyTorch/')"
   ]
  },
  {
   "cell_type": "code",
   "execution_count": null,
   "metadata": {
    "scrolled": true
   },
   "outputs": [],
   "source": [
    "from utils import *\n",
    "from config import cfg"
   ]
  },
  {
   "cell_type": "code",
   "execution_count": 7,
   "metadata": {},
   "outputs": [],
   "source": [
    "small_addon_for_BCE = 1e-6"
   ]
  },
  {
   "cell_type": "code",
   "execution_count": null,
   "metadata": {},
   "outputs": [],
   "source": [
    "class RPN3D(nn.Module):\n",
    "    def __init__(self, cls = 'Car', alpha = 1.5, beta = 1, sigma = 3):\n",
    "        super(RPN3D, self).__init__()\n",
    "        \n",
    "        self.cls = cls\n",
    "        self.alpha = alpha\n",
    "        self.beta = beta\n",
    "        self.sigma = sigma\n",
    "        self.feature = FeatureNet()\n",
    "        self.rpn = MiddleAndRpn()\n",
    "        \n",
    "        self.anchors = cal_anchors()\n",
    "        self.rpn_output_shape = self.rpn.output_shape\n",
    "        \n",
    "    def forward(self, inputs):\n",
    "        self.tag = inputs[0]\n",
    "        self.label = inputs[1]\n",
    "        self.vox_features = inputs[2]\n",
    "        self.vox_coordinate = inputs[3]\n",
    "        \n",
    "        pos_equal_one, neg_equal_one, targets = cal_rpn_target(self.label, self.rpn_output_shape, self.anchors, cls = cfg.DETECT_OBJ)\n",
    "        pos_equal_one_for_reg = np.concatenate([np.tile(pos_equal_one[..., [0]], 7), np.tile(pos_equal_one[..., [1]], 7)], axis=-1)\n",
    "        pos_equal_one_sum = np.clip(np.sum(pos_equal_one, axis=(1, 2, 3)).reshape(-1, 1, 1, 1), a_min=1, a_max=None)\n",
    "        neg_equal_one_sum = np.clip(np.sum(neg_equal_one, axis=(1, 2, 3)).reshape(-1, 1, 1, 1), a_min=1, a_max=None)\n",
    "        \n",
    "        return pos_equal_one, pos_equal_one_for_reg, pos_equal_one_sum, neg_equal_one_sum, targets\n",
    "        "
   ]
  }
 ],
 "metadata": {
  "kernelspec": {
   "display_name": "Python 3",
   "language": "python",
   "name": "python3"
  },
  "language_info": {
   "codemirror_mode": {
    "name": "ipython",
    "version": 3
   },
   "file_extension": ".py",
   "mimetype": "text/x-python",
   "name": "python",
   "nbconvert_exporter": "python",
   "pygments_lexer": "ipython3",
   "version": "3.6.9"
  }
 },
 "nbformat": 4,
 "nbformat_minor": 4
}
