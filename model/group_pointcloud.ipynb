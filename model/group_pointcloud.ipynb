{
 "cells": [
  {
   "cell_type": "code",
   "execution_count": 1,
   "metadata": {},
   "outputs": [],
   "source": [
    "import os\n",
    "import sys\n",
    "import torch\n",
    "import torch.nn as nn\n",
    "import torch.nn.functional as F"
   ]
  },
  {
   "cell_type": "code",
   "execution_count": 6,
   "metadata": {},
   "outputs": [],
   "source": [
    "sys.path.append('/home/rishi/Projects/VoxelNet/VoxelNet_R_PyTorch/')"
   ]
  },
  {
   "cell_type": "code",
   "execution_count": 7,
   "metadata": {},
   "outputs": [],
   "source": [
    "from config import cfg"
   ]
  },
  {
   "cell_type": "code",
   "execution_count": 9,
   "metadata": {},
   "outputs": [],
   "source": [
    "class VFELayer(nn.Module):\n",
    "    def __init__(self, in_channels, out_channels):\n",
    "        super(VFELayer, self).__init__()\n",
    "        \n",
    "        self.in_channels = in_channels\n",
    "        self.out_channels = out_channels\n",
    "        self.units = int(out_channels/2)\n",
    "        \n",
    "        self.dense = nn.Sequential(nn.Linear(self.in_channels, self.out_channels),\n",
    "                                   nn.ReLU()\n",
    "                                   )\n",
    "        self.batch_norm = nn.BatchNorm2d(self.units)\n",
    "        \n",
    "        \n",
    "    def forward(self, inputs, mask):\n",
    "        temp = self.dense(inputs).transpose(1,2)\n",
    "        pointwise = self.batch_norm(temp).transpose(1,2)\n",
    "        \n",
    "        aggregated = torch.max(pointwise, dim=1, keep_dims=True)\n",
    "        repeated = aggregated.expand(-1, cfg.VOXEL_POINT_COUNT, -1)\n",
    "        concatenated = torch.cat([pointwise, repeated], dim = 2)\n",
    "        mask = mask.expand(-1, -1, 2*self.units)\n",
    "        concatenated = concatenated*mask.float()\n",
    "        \n",
    "        return concatenated"
   ]
  },
  {
   "cell_type": "code",
   "execution_count": 10,
   "metadata": {},
   "outputs": [],
   "source": [
    "class FeatureNet(nn.Module):\n",
    "    def __init__(self):\n",
    "        super(FeatureNet, self).__init__()\n",
    "        \n",
    "        self.vfe1 = VFELayer(7,32)\n",
    "        self.vfe2 = VFELayer(32,64)\n",
    "        \n",
    "    def forward(self, feature, number, coordinate):\n",
    "        batch_size = len(feature)\n",
    "        feature = torch.cat(feature, dim=0)\n",
    "        coordinate = torch.cat(coordinate, dim = 0)\n",
    "        vmax = torch.max(feature, dim=2, keepdim = True)\n",
    "        mask = (vmax!=0)\n",
    "        x = self.vfe1(feature, mask)\n",
    "        x = self.vfe2(x, mask)\n",
    "        \n",
    "        voxelwise = torch.max(x, dim = 1)\n",
    "        outputs = torch.sparse.FloatTensor(coordinate.t(), voxelwise, torch.Size([batch_size, cfg.INPUT_DEPTH, cfg.INPUT_HEIGHT, cfg.INPUT_WIDTH, 128]))\n",
    "        outputs = outputs.to_dense()\n",
    "        return outputs"
   ]
  },
  {
   "cell_type": "code",
   "execution_count": null,
   "metadata": {},
   "outputs": [],
   "source": []
  }
 ],
 "metadata": {
  "kernelspec": {
   "display_name": "Python 3",
   "language": "python",
   "name": "python3"
  },
  "language_info": {
   "codemirror_mode": {
    "name": "ipython",
    "version": 3
   },
   "file_extension": ".py",
   "mimetype": "text/x-python",
   "name": "python",
   "nbconvert_exporter": "python",
   "pygments_lexer": "ipython3",
   "version": "3.6.9"
  }
 },
 "nbformat": 4,
 "nbformat_minor": 4
}
