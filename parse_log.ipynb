{
 "cells": [
  {
   "cell_type": "code",
   "execution_count": 1,
   "metadata": {},
   "outputs": [],
   "source": [
    "import matplotlib\n",
    "matplotlib.use('Agg')\n",
    "import matplotlib.pyplot as plt\n",
    "import os\n",
    "from collections import OrderedDict\n",
    "import sys\n"
   ]
  },
  {
   "cell_type": "code",
   "execution_count": 2,
   "metadata": {},
   "outputs": [],
   "source": [
    "linestyles = OrderedDict(\n",
    "                         [('solid',               (0, ())),\n",
    "                          ('loosely dotted',      (0, (1, 10))),\n",
    "                          ('dotted',              (0, (1, 5))),\n",
    "                          ('densely dotted',      (0, (1, 1))),\n",
    "                          ('loosely dashed',      (0, (5, 10))),\n",
    "                          ('dashed',              (0, (5, 5))),\n",
    "                          ('densely dashed',      (0, (5, 1))),\n",
    "                          ('loosely dashdotted',  (0, (3, 10, 1, 10))),\n",
    "                          ('dashdotted',          (0, (3, 5, 1, 5))),\n",
    "                          ('densely dashdotted',  (0, (3, 1, 1, 1))),\n",
    "                          ('loosely dashdotdotted', (0, (3, 10, 1, 10, 1, 10))),\n",
    "                          ('dashdotdotted',         (0, (3, 5, 1, 5, 1, 5))),\n",
    "                          ('densely dashdotdotted', (0, (3, 1, 1, 1, 1, 1)))])"
   ]
  },
  {
   "cell_type": "code",
   "execution_count": 3,
   "metadata": {},
   "outputs": [],
   "source": [
    "# These are the \"Tableau 20\" colors as RGB.\n",
    "tableau20 = [(31, 119, 180), (174, 199, 232), (255, 127, 14), (255, 187, 120),\n",
    "             (44, 160, 44), (152, 223, 138), (214, 39, 40), (255, 152, 150),\n",
    "             (148, 103, 189), (197, 176, 213), (140, 86, 75), (196, 156, 148),\n",
    "             (227, 119, 194), (247, 182, 210), (127, 127, 127), (199, 199, 199),\n",
    "             (188, 189, 34), (219, 219, 141), (23, 190, 207), (158, 218, 229)]"
   ]
  },
  {
   "cell_type": "code",
   "execution_count": 4,
   "metadata": {},
   "outputs": [],
   "source": [
    "for i in range(len(tableau20)):\n",
    "    r, g, b = tableau20[i]\n",
    "    tableau20[i] = (r / 255., g / 255., b / 255.)\n"
   ]
  },
  {
   "cell_type": "code",
   "execution_count": 5,
   "metadata": {},
   "outputs": [],
   "source": [
    "ROOT_DIR = sys.argv[1]\n",
    "\n",
    "det_3d = [ [] for _ in range(3) ]\n",
    "det_bv = [ [] for _ in range(3) ]\n",
    "\n",
    "for epoch in range(9, 200, 10):\n",
    "    log_file = os.path.join(ROOT_DIR, str(epoch), 'log')\n",
    "    if not os.path.exists( log_file  ):\n",
    "        break\n",
    "    else:\n",
    "        lines = open(log_file).readlines()\n",
    "        for line in lines:\n",
    "            line = line.split()\n",
    "            if line[0] == 'car_detection_ground':\n",
    "                det_bv[0].append( float( line[-3] ) )\n",
    "                det_bv[1].append( float( line[-2] ) )\n",
    "                det_bv[2].append( float( line[-1] ) )\n",
    "            elif line[0] == 'car_detection_3d':\n",
    "                det_3d[0].append( float(line[-3]) )\n",
    "                det_3d[1].append( float(line[-2]) )\n",
    "                det_3d[2].append( float(line[-1]) )"
   ]
  },
  {
   "cell_type": "code",
   "execution_count": 6,
   "metadata": {},
   "outputs": [
    {
     "name": "stdout",
     "output_type": "stream",
     "text": [
      "results parsed and saved in: -f.jpg\n"
     ]
    }
   ],
   "source": [
    "RANGE = range(len(det_bv[0]))\n",
    "\n",
    "plt.figure(figsize=(10, 7))\n",
    "\n",
    "plt.plot( RANGE,  det_3d[0] , linestyle=linestyles['solid'], linewidth=1.5, color=tableau20[0] )\n",
    "plt.plot( RANGE,  det_3d[1] , linestyle=linestyles['solid'], linewidth=1.5, color=tableau20[2] )\n",
    "plt.plot( RANGE,  det_3d[2] , linestyle=linestyles['solid'], linewidth=1.5, color=tableau20[4] )\n",
    "plt.plot( RANGE,  det_bv[0] , linestyle=linestyles['densely dotted'], linewidth=1.5, color=tableau20[0] )\n",
    "plt.plot( RANGE,  det_bv[1] , linestyle=linestyles['densely dotted'], linewidth=1.5, color=tableau20[2] )\n",
    "plt.plot( RANGE,  det_bv[2] , linestyle=linestyles['densely dotted'], linewidth=1.5, color=tableau20[4] )\n",
    "\n",
    "\n",
    "plt.legend(['3d easy', '3d moderate', '3d hard', 'bird view easy', 'bird view moderate', 'bird view hard'], loc=4)\n",
    "\n",
    "plt.xlabel('Epoch',  fontsize=16)\n",
    "plt.xticks(  RANGE, range(9, len(RANGE)*10, 10) )\n",
    "plt.xticks(fontsize=14)\n",
    "\n",
    "plt.ylabel('AP', fontsize=16)\n",
    "plt.ylim(35, 95)\n",
    "plt.yticks( range(35, 95, 5) )\n",
    "plt.yticks(fontsize=14)\n",
    "\n",
    "plt.grid(linestyle=linestyles['dotted'])\n",
    "\n",
    "DIR_NAME = ROOT_DIR.split('/')[-1]\n",
    "\n",
    "OUTPUT_NAME = DIR_NAME + '.jpg'\n",
    "plt.savefig(OUTPUT_NAME)\n",
    "\n",
    "print('results parsed and saved in: ' + OUTPUT_NAME)\n"
   ]
  },
  {
   "cell_type": "code",
   "execution_count": null,
   "metadata": {},
   "outputs": [],
   "source": []
  }
 ],
 "metadata": {
  "kernelspec": {
   "display_name": "Python 3",
   "language": "python",
   "name": "python3"
  },
  "language_info": {
   "codemirror_mode": {
    "name": "ipython",
    "version": 3
   },
   "file_extension": ".py",
   "mimetype": "text/x-python",
   "name": "python",
   "nbconvert_exporter": "python",
   "pygments_lexer": "ipython3",
   "version": "3.6.9"
  }
 },
 "nbformat": 4,
 "nbformat_minor": 4
}
