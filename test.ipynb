{
 "cells": [
  {
   "cell_type": "code",
   "execution_count": null,
   "metadata": {},
   "outputs": [],
   "source": [
    "import os\n",
    "import argparse\n",
    "\n",
    "import cv2"
   ]
  },
  {
   "cell_type": "code",
   "execution_count": null,
   "metadata": {},
   "outputs": [],
   "source": [
    "\n",
    "import torch\n",
    "import torch.nn as nn\n",
    "from torch.utils.data import DataLoader as DataLoader\n",
    "from loader.kitti import collate_fn\n",
    "\n",
    "from config import cfg\n",
    "from utils.utils import *\n",
    "from model.model import RPN3D\n",
    "from dataloader.kitti import KITTI_Loader as Dataset"
   ]
  },
  {
   "cell_type": "code",
   "execution_count": null,
   "metadata": {},
   "outputs": [],
   "source": [
    "#args here"
   ]
  },
  {
   "cell_type": "code",
   "execution_count": null,
   "metadata": {},
   "outputs": [],
   "source": [
    "def main(args):\n",
    "    \n",
    "    val_dataset = Dataset(os.path.join(cfg.DATA_DIR, 'validation'), shuffle = False, aug = False, is_testset = False)\n",
    "    val_dataloader = DataLoader(val_dataset, batch_size = args.batch_size, shuffle = False, collate_fn = collate_fn,\n",
    "                                num_workers = args.workers, pin_memory = False)\n",
    "    \n",
    "    #device - set device\n",
    "    model = RPN3D(cfg.DETECT_OBJ)\n",
    "    weights = torch.load(args.pre_trained)\n",
    "    model.load_state_dict(weights['state_dict'])\n",
    "    model.eval()\n",
    "    \n",
    "    with torch.no_grad():\n",
    "        for (i, val_data) in enumerate(val_dataloader):\n",
    "\n",
    "            # Forward pass for validation and prediction\n",
    "            probs, deltas, val_loss, val_cls_loss, val_reg_loss, cls_pos_loss_rec, cls_neg_loss_rec = model(val_data)\n",
    "\n",
    "            front_images, bird_views, heatmaps = None, None, None\n",
    "            \n",
    "            if args.vis:\n",
    "                tags, ret_box3d_scores, front_images, bird_views, heatmaps = \\model.module.predict(val_data, probs, deltas, summary = False, vis = True)\n",
    "            else:\n",
    "                tags, ret_box3d_scores = model.module.predict(val_data, probs, deltas, summary = False, vis = False)\n",
    "\n",
    "            # tags: (N)\n",
    "            # ret_box3d_scores: (N, N'); (class, x, y, z, h, w, l, rz, score)\n",
    "            for tag, score in zip(tags, ret_box3d_scores):\n",
    "                output_path = os.path.join(args.output_path, 'data', tag + '.txt')\n",
    "                with open(output_path, 'w+') as f:\n",
    "                    labels = box3d_to_label([score[:, 1:8]], [score[:, 0]], [score[:, -1]], coordinate = 'lidar')[0]\n",
    "                    for line in labels:\n",
    "                        f.write(line)\n",
    "                    print('Write out {} objects to {}'.format(len(labels), tag))\n",
    "\n",
    "            # Dump visualizations\n",
    "            if args.vis:\n",
    "                for tag, front_image, bird_view, heatmap in zip(tags, front_images, bird_views, heatmaps):\n",
    "                    front_img_path = os.path.join(args.output_path, 'vis', tag + '_front.jpg')\n",
    "                    bird_view_path = os.path.join(args.output_path, 'vis', tag + '_bv.jpg')\n",
    "                    heatmap_path = os.path.join(args.output_path, 'vis', tag + '_heatmap.jpg')\n",
    "                    cv2.imwrite(front_img_path, front_image)\n",
    "                    cv2.imwrite(bird_view_path, bird_view)\n",
    "                    cv2.imwrite(heatmap_path, heatmap)\n",
    "    "
   ]
  },
  {
   "cell_type": "code",
   "execution_count": null,
   "metadata": {},
   "outputs": [],
   "source": [
    "#call main here"
   ]
  }
 ],
 "metadata": {
  "kernelspec": {
   "display_name": "Python 3",
   "language": "python",
   "name": "python3"
  },
  "language_info": {
   "codemirror_mode": {
    "name": "ipython",
    "version": 3
   },
   "file_extension": ".py",
   "mimetype": "text/x-python",
   "name": "python",
   "nbconvert_exporter": "python",
   "pygments_lexer": "ipython3",
   "version": "3.6.9"
  }
 },
 "nbformat": 4,
 "nbformat_minor": 4
}
