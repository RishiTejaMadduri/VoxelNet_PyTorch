{
 "cells": [
  {
   "cell_type": "code",
   "execution_count": 1,
   "metadata": {},
   "outputs": [],
   "source": [
    "import torch\n",
    "import numpy as np\n",
    "import torch.nn as nn\n",
    "import torch.nn.functional as F"
   ]
  },
  {
   "cell_type": "code",
   "execution_count": 2,
   "metadata": {},
   "outputs": [],
   "source": [
    "small_addon_for_BCE = 1e-6"
   ]
  },
  {
   "cell_type": "code",
   "execution_count": null,
   "metadata": {},
   "outputs": [],
   "source": [
    "def Loss(pos_equal_one, pos_equal_one_for_reg, pos_equal_one_sum, neg_equal_one, neg_equal_sum, targets, prob_output):\n",
    "    cls_pos_loss = (-pos_equal_one * torch.log(prob_output + small_addon_for_BCE)) / pos_equal_one_sum\n",
    "    cls_neg_loss = (-neg_equal_one * torch.log(1-prob_out + small_addon_for_BCE)) / neg_equal_one_sum\n",
    "    cls_loss = torch.sum(alpha * cls_pos_loss + beta * cls_neg_loss)\n",
    "    \n",
    "    cls_pos_loss_rec = torch.sum(cls_pos_loss)\n",
    "    cls_neg_loss_rec = torch.sum(cls_neg_loss)\n",
    "    \n",
    "    \n",
    "    "
   ]
  },
  {
   "cell_type": "code",
   "execution_count": 3,
   "metadata": {},
   "outputs": [],
   "source": [
    "def smooth_l1(deltas, targets, sigma = 3.0):\n",
    "    \n",
    "    sigma2 = sigma*sigma\n",
    "    diffs = torch.subtract(deltas, targets)\n",
    "    smooth_l1_signs = torch.less(torch.abs(diffs), 1.0/sigma2).float32\n",
    "    \n",
    "    smooth_l1_option1 = torch.mul(diffs, diffs)*0.5*sigma2\n",
    "    smooth_l1_option2 = torch.abs(Diffs) - 0.5 / sigma2\n",
    "    smooth_l1_add = torch.mul(smooth_l1_option1, smooth_l1_signs) + torch.mul(smooth_l1_option2, 1-smooth_l1_signs)\n",
    "    \n",
    "    smooth_l1 = smooth_l1_add\n",
    "    \n",
    "    return smooth_l1"
   ]
  },
  {
   "cell_type": "code",
   "execution_count": null,
   "metadata": {},
   "outputs": [],
   "source": []
  }
 ],
 "metadata": {
  "kernelspec": {
   "display_name": "Python 3",
   "language": "python",
   "name": "python3"
  },
  "language_info": {
   "codemirror_mode": {
    "name": "ipython",
    "version": 3
   },
   "file_extension": ".py",
   "mimetype": "text/x-python",
   "name": "python",
   "nbconvert_exporter": "python",
   "pygments_lexer": "ipython3",
   "version": "3.6.9"
  }
 },
 "nbformat": 4,
 "nbformat_minor": 4
}
